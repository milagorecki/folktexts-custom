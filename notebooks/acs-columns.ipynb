{
 "cells": [
  {
   "cell_type": "code",
   "execution_count": 1,
   "metadata": {},
   "outputs": [],
   "source": [
    "## ACS columns"
   ]
  },
  {
   "cell_type": "code",
   "execution_count": 2,
   "metadata": {},
   "outputs": [
    {
     "name": "stderr",
     "output_type": "stream",
     "text": [
      "/Users/mgorecki/opt/miniconda3/envs/llm-py311/lib/python3.11/site-packages/tqdm/auto.py:21: TqdmWarning: IProgress not found. Please update jupyter and ipywidgets. See https://ipywidgets.readthedocs.io/en/stable/user_install.html\n",
      "  from .autonotebook import tqdm as notebook_tqdm\n"
     ]
    },
    {
     "data": {
      "text/plain": [
       "'0.0.18'"
      ]
     },
     "execution_count": 2,
     "metadata": {},
     "output_type": "execute_result"
    }
   ],
   "source": [
    "import folktexts\n",
    "folktexts.__version__"
   ]
  },
  {
   "cell_type": "code",
   "execution_count": 3,
   "metadata": {},
   "outputs": [],
   "source": [
    "from folktexts.acs import acs_columns\n",
    "from folktexts.acs.acs_tasks import acs_columns_map\n",
    "\n",
    "from folktexts.col_to_text import ColumnToText\n",
    "from folktexts.qa_interface import DirectNumericQA as _DirectNumericQA\n",
    "from folktexts.qa_interface import MultipleChoiceQA as _MultipleChoiceQA"
   ]
  },
  {
   "cell_type": "code",
   "execution_count": 4,
   "metadata": {},
   "outputs": [],
   "source": [
    "acs_numeric_qa_map: dict[str, object] = {\n",
    "    question.column: question\n",
    "    for question in acs_columns.__dict__.values()\n",
    "    if isinstance(question, _DirectNumericQA)\n",
    "}"
   ]
  },
  {
   "cell_type": "code",
   "execution_count": 5,
   "metadata": {},
   "outputs": [
    {
     "data": {
      "text/plain": [
       "{'PINCP>50000': DirectNumericQA(column='PINCP>50000', text=\"What is the probability that this person's estimated yearly income is above $50,000 ?\", num_forward_passes=2, answer_probability=True),\n",
       " 'PUBCOV==1': DirectNumericQA(column='PUBCOV==1', text='What is the probability that this person is covered by public health insurance?', num_forward_passes=2, answer_probability=True),\n",
       " 'MIG!=1': DirectNumericQA(column='MIG!=1', text='What is the probability that this person has moved in the last year?', num_forward_passes=2, answer_probability=True),\n",
       " 'ESR==1': DirectNumericQA(column='ESR==1', text='What is the probability that this person is an employed civilian?', num_forward_passes=2, answer_probability=True),\n",
       " 'JWMNP>20': DirectNumericQA(column='JWMNP>20', text=\"What is the probability that this person's commute time is longer than 20 minutes?\", num_forward_passes=2, answer_probability=True),\n",
       " 'HINS2==1': DirectNumericQA(column='HINS2==1', text='What is the probability that this person has purchased health insurance directly through a private company?', num_forward_passes=2, answer_probability=True)}"
      ]
     },
     "execution_count": 5,
     "metadata": {},
     "output_type": "execute_result"
    }
   ],
   "source": [
    "acs_numeric_qa_map"
   ]
  },
  {
   "cell_type": "code",
   "execution_count": 6,
   "metadata": {},
   "outputs": [],
   "source": [
    "acs_multiple_choice_qa_map: dict[str, object] = {\n",
    "    question.column: question\n",
    "    for question in acs_columns.__dict__.values()\n",
    "    if isinstance(question, _MultipleChoiceQA)\n",
    "}"
   ]
  },
  {
   "cell_type": "code",
   "execution_count": 7,
   "metadata": {},
   "outputs": [
    {
     "data": {
      "text/plain": [
       "{'PINCP>50000': MultipleChoiceQA(column='PINCP>50000', text=\"What is this person's estimated yearly income?\", num_forward_passes=1, choices=(Choice(text='Below $50,000', data_value=0, numeric_value=None), Choice(text='Above $50,000', data_value=1, numeric_value=None)), _answer_keys_source=('A', 'B', 'C', 'D', 'E', 'F', 'G', 'H', 'I', 'J', 'K', 'L', 'M', 'N', 'O', 'P', 'Q', 'R', 'S', 'T', 'U', 'V', 'W', 'X', 'Y', 'Z')),\n",
       " 'PUBCOV': MultipleChoiceQA(column='PUBCOV', text='Does this person have public health insurance coverage?', num_forward_passes=1, choices=(Choice(text='Yes, person is covered by public health insurance', data_value=1, numeric_value=None), Choice(text='No, person is not covered by public health insurance', data_value=2, numeric_value=None)), _answer_keys_source=('A', 'B', 'C', 'D', 'E', 'F', 'G', 'H', 'I', 'J', 'K', 'L', 'M', 'N', 'O', 'P', 'Q', 'R', 'S', 'T', 'U', 'V', 'W', 'X', 'Y', 'Z')),\n",
       " 'PUBCOV==1': MultipleChoiceQA(column='PUBCOV==1', text='Does this person have public health insurance coverage?', num_forward_passes=1, choices=(Choice(text='Yes, person is covered by public health insurance', data_value=1, numeric_value=None), Choice(text='No, person is not covered by public health insurance', data_value=0, numeric_value=None)), _answer_keys_source=('A', 'B', 'C', 'D', 'E', 'F', 'G', 'H', 'I', 'J', 'K', 'L', 'M', 'N', 'O', 'P', 'Q', 'R', 'S', 'T', 'U', 'V', 'W', 'X', 'Y', 'Z')),\n",
       " 'MIG!=1': MultipleChoiceQA(column='MIG!=1', text='Has this person moved in the last year?', num_forward_passes=1, choices=(Choice(text='No, person has lived in the same house for the last year', data_value=0, numeric_value=None), Choice(text='Yes, person has moved in the last year', data_value=1, numeric_value=None)), _answer_keys_source=('A', 'B', 'C', 'D', 'E', 'F', 'G', 'H', 'I', 'J', 'K', 'L', 'M', 'N', 'O', 'P', 'Q', 'R', 'S', 'T', 'U', 'V', 'W', 'X', 'Y', 'Z')),\n",
       " 'ESR==1': MultipleChoiceQA(column='ESR==1', text=\"What is this person's employment status?\", num_forward_passes=1, choices=(Choice(text='Employed civilian', data_value=1, numeric_value=None), Choice(text='Unemployed or in the military', data_value=0, numeric_value=None)), _answer_keys_source=('A', 'B', 'C', 'D', 'E', 'F', 'G', 'H', 'I', 'J', 'K', 'L', 'M', 'N', 'O', 'P', 'Q', 'R', 'S', 'T', 'U', 'V', 'W', 'X', 'Y', 'Z')),\n",
       " 'JWMNP>20': MultipleChoiceQA(column='JWMNP>20', text=\"What is this person's commute time?\", num_forward_passes=1, choices=(Choice(text='Longer than 20 minutes', data_value=1, numeric_value=None), Choice(text='Less than 20 minutes', data_value=0, numeric_value=None)), _answer_keys_source=('A', 'B', 'C', 'D', 'E', 'F', 'G', 'H', 'I', 'J', 'K', 'L', 'M', 'N', 'O', 'P', 'Q', 'R', 'S', 'T', 'U', 'V', 'W', 'X', 'Y', 'Z')),\n",
       " 'POVPIP<250': MultipleChoiceQA(column='POVPIP<250', text=(\"Is this person's income-to-poverty ratio below 2.5 ? That is, is this person's annual income below 2.5 times the poverty line income?\",), num_forward_passes=1, choices=(Choice(text='Yes, this person earns below 2.5 times the poverty line income', data_value=1, numeric_value=None), Choice(text='No, this person earns above 2.5 times the poverty line income.', data_value=0, numeric_value=None)), _answer_keys_source=('A', 'B', 'C', 'D', 'E', 'F', 'G', 'H', 'I', 'J', 'K', 'L', 'M', 'N', 'O', 'P', 'Q', 'R', 'S', 'T', 'U', 'V', 'W', 'X', 'Y', 'Z')),\n",
       " 'HINS2==1': MultipleChoiceQA(column='HINS2==1', text='Has this person purchased health insurance directly from an insurance company?', num_forward_passes=1, choices=(Choice(text='Yes, this person has health insurance through a private company', data_value=1, numeric_value=None), Choice(text='No, this person either has insurance through other means or is uninsured', data_value=0, numeric_value=None)), _answer_keys_source=('A', 'B', 'C', 'D', 'E', 'F', 'G', 'H', 'I', 'J', 'K', 'L', 'M', 'N', 'O', 'P', 'Q', 'R', 'S', 'T', 'U', 'V', 'W', 'X', 'Y', 'Z'))}"
      ]
     },
     "execution_count": 7,
     "metadata": {},
     "output_type": "execute_result"
    }
   ],
   "source": [
    "acs_multiple_choice_qa_map"
   ]
  },
  {
   "cell_type": "code",
   "execution_count": 8,
   "metadata": {},
   "outputs": [],
   "source": [
    "acs_multiple_choice_qa_map.update({\n",
    "    col_to_text.name: col_to_text.question\n",
    "    for col_to_text in acs_columns_map.values()\n",
    "    if (\n",
    "        isinstance(col_to_text, ColumnToText)\n",
    "        and col_to_text._question is not None\n",
    "    )\n",
    "})"
   ]
  },
  {
   "cell_type": "code",
   "execution_count": 9,
   "metadata": {},
   "outputs": [
    {
     "data": {
      "text/plain": [
       "{'PINCP>50000': MultipleChoiceQA(column='PINCP>50000', text=\"What is this person's estimated yearly income?\", num_forward_passes=1, choices=(Choice(text='Below $50,000', data_value=0, numeric_value=None), Choice(text='Above $50,000', data_value=1, numeric_value=None)), _answer_keys_source=('A', 'B', 'C', 'D', 'E', 'F', 'G', 'H', 'I', 'J', 'K', 'L', 'M', 'N', 'O', 'P', 'Q', 'R', 'S', 'T', 'U', 'V', 'W', 'X', 'Y', 'Z')),\n",
       " 'PUBCOV': MultipleChoiceQA(column='PUBCOV', text='Does this person have public health insurance coverage?', num_forward_passes=1, choices=(Choice(text='Yes, person is covered by public health insurance', data_value=1, numeric_value=None), Choice(text='No, person is not covered by public health insurance', data_value=2, numeric_value=None)), _answer_keys_source=('A', 'B', 'C', 'D', 'E', 'F', 'G', 'H', 'I', 'J', 'K', 'L', 'M', 'N', 'O', 'P', 'Q', 'R', 'S', 'T', 'U', 'V', 'W', 'X', 'Y', 'Z')),\n",
       " 'PUBCOV==1': MultipleChoiceQA(column='PUBCOV==1', text='Does this person have public health insurance coverage?', num_forward_passes=1, choices=(Choice(text='Yes, person is covered by public health insurance', data_value=1, numeric_value=None), Choice(text='No, person is not covered by public health insurance', data_value=0, numeric_value=None)), _answer_keys_source=('A', 'B', 'C', 'D', 'E', 'F', 'G', 'H', 'I', 'J', 'K', 'L', 'M', 'N', 'O', 'P', 'Q', 'R', 'S', 'T', 'U', 'V', 'W', 'X', 'Y', 'Z')),\n",
       " 'MIG!=1': MultipleChoiceQA(column='MIG!=1', text='Has this person moved in the last year?', num_forward_passes=1, choices=(Choice(text='No, person has lived in the same house for the last year', data_value=0, numeric_value=None), Choice(text='Yes, person has moved in the last year', data_value=1, numeric_value=None)), _answer_keys_source=('A', 'B', 'C', 'D', 'E', 'F', 'G', 'H', 'I', 'J', 'K', 'L', 'M', 'N', 'O', 'P', 'Q', 'R', 'S', 'T', 'U', 'V', 'W', 'X', 'Y', 'Z')),\n",
       " 'ESR==1': MultipleChoiceQA(column='ESR==1', text=\"What is this person's employment status?\", num_forward_passes=1, choices=(Choice(text='Employed civilian', data_value=1, numeric_value=None), Choice(text='Unemployed or in the military', data_value=0, numeric_value=None)), _answer_keys_source=('A', 'B', 'C', 'D', 'E', 'F', 'G', 'H', 'I', 'J', 'K', 'L', 'M', 'N', 'O', 'P', 'Q', 'R', 'S', 'T', 'U', 'V', 'W', 'X', 'Y', 'Z')),\n",
       " 'JWMNP>20': MultipleChoiceQA(column='JWMNP>20', text=\"What is this person's commute time?\", num_forward_passes=1, choices=(Choice(text='Longer than 20 minutes', data_value=1, numeric_value=None), Choice(text='Less than 20 minutes', data_value=0, numeric_value=None)), _answer_keys_source=('A', 'B', 'C', 'D', 'E', 'F', 'G', 'H', 'I', 'J', 'K', 'L', 'M', 'N', 'O', 'P', 'Q', 'R', 'S', 'T', 'U', 'V', 'W', 'X', 'Y', 'Z')),\n",
       " 'POVPIP<250': MultipleChoiceQA(column='POVPIP<250', text=(\"Is this person's income-to-poverty ratio below 2.5 ? That is, is this person's annual income below 2.5 times the poverty line income?\",), num_forward_passes=1, choices=(Choice(text='Yes, this person earns below 2.5 times the poverty line income', data_value=1, numeric_value=None), Choice(text='No, this person earns above 2.5 times the poverty line income.', data_value=0, numeric_value=None)), _answer_keys_source=('A', 'B', 'C', 'D', 'E', 'F', 'G', 'H', 'I', 'J', 'K', 'L', 'M', 'N', 'O', 'P', 'Q', 'R', 'S', 'T', 'U', 'V', 'W', 'X', 'Y', 'Z')),\n",
       " 'HINS2==1': MultipleChoiceQA(column='HINS2==1', text='Has this person purchased health insurance directly from an insurance company?', num_forward_passes=1, choices=(Choice(text='Yes, this person has health insurance through a private company', data_value=1, numeric_value=None), Choice(text='No, this person either has insurance through other means or is uninsured', data_value=0, numeric_value=None)), _answer_keys_source=('A', 'B', 'C', 'D', 'E', 'F', 'G', 'H', 'I', 'J', 'K', 'L', 'M', 'N', 'O', 'P', 'Q', 'R', 'S', 'T', 'U', 'V', 'W', 'X', 'Y', 'Z')),\n",
       " 'COW': MultipleChoiceQA(column='COW', text=\"What is this person's class of worker?\", num_forward_passes=1, choices=(Choice(text='Working for a for-profit private company or organization', data_value='1', numeric_value=None), Choice(text='Working for a non-profit organization', data_value='2', numeric_value=None), Choice(text='Working for the local government', data_value='3', numeric_value=None), Choice(text='Working for the state government', data_value='4', numeric_value=None), Choice(text='Working for the federal government', data_value='5', numeric_value=None), Choice(text='Owner of non-incorporated business, professional practice, or farm', data_value='6', numeric_value=None), Choice(text='Owner of incorporated business, professional practice, or farm', data_value='7', numeric_value=None), Choice(text='Working without pay in a for-profit family business or farm', data_value='8', numeric_value=None), Choice(text='Unemployed and last worked 5 years ago or earlier or never worked', data_value='9', numeric_value=None)), _answer_keys_source=('A', 'B', 'C', 'D', 'E', 'F', 'G', 'H', 'I', 'J', 'K', 'L', 'M', 'N', 'O', 'P', 'Q', 'R', 'S', 'T', 'U', 'V', 'W', 'X', 'Y', 'Z')),\n",
       " 'SCHL': MultipleChoiceQA(column='SCHL', text=\"What is this person's highest educational attainment?\", num_forward_passes=1, choices=(Choice(text='N/A - no schooling completed', data_value='1', numeric_value=None), Choice(text='Nursery school / preschool', data_value='2', numeric_value=None), Choice(text='Kindergarten', data_value='3', numeric_value=None), Choice(text='1st grade only', data_value='4', numeric_value=None), Choice(text='2nd grade', data_value='5', numeric_value=None), Choice(text='3rd grade', data_value='6', numeric_value=None), Choice(text='4th grade', data_value='7', numeric_value=None), Choice(text='5th grade', data_value='8', numeric_value=None), Choice(text='6th grade', data_value='9', numeric_value=None), Choice(text='7th grade', data_value='10', numeric_value=None), Choice(text='8th grade', data_value='11', numeric_value=None), Choice(text='9th grade', data_value='12', numeric_value=None), Choice(text='10th grade', data_value='13', numeric_value=None), Choice(text='11th grade', data_value='14', numeric_value=None), Choice(text='12th grade, no diploma', data_value='15', numeric_value=None), Choice(text='Regular high school diploma', data_value='16', numeric_value=None), Choice(text='GED or alternative credential', data_value='17', numeric_value=None), Choice(text='Some college, less than 1 year', data_value='18', numeric_value=None), Choice(text='Some college, 1 or more years, no degree', data_value='19', numeric_value=None), Choice(text=\"Associate's degree\", data_value='20', numeric_value=None), Choice(text=\"Bachelor's degree\", data_value='21', numeric_value=None), Choice(text=\"Master's degree\", data_value='22', numeric_value=None), Choice(text=\"Professional degree beyond a bachelor's degree\", data_value='23', numeric_value=None), Choice(text='Doctorate degree', data_value='24', numeric_value=None)), _answer_keys_source=('A', 'B', 'C', 'D', 'E', 'F', 'G', 'H', 'I', 'J', 'K', 'L', 'M', 'N', 'O', 'P', 'Q', 'R', 'S', 'T', 'U', 'V', 'W', 'X', 'Y', 'Z')),\n",
       " 'MAR': MultipleChoiceQA(column='MAR', text=\"What is this person's marital status?\", num_forward_passes=1, choices=(Choice(text='Married', data_value='1', numeric_value=None), Choice(text='Widowed', data_value='2', numeric_value=None), Choice(text='Divorced', data_value='3', numeric_value=None), Choice(text='Separated', data_value='4', numeric_value=None), Choice(text='Never married', data_value='5', numeric_value=None)), _answer_keys_source=('A', 'B', 'C', 'D', 'E', 'F', 'G', 'H', 'I', 'J', 'K', 'L', 'M', 'N', 'O', 'P', 'Q', 'R', 'S', 'T', 'U', 'V', 'W', 'X', 'Y', 'Z')),\n",
       " 'RELP': MultipleChoiceQA(column='RELP', text=\"What is this person's relationship to the reference person in the survey?\", num_forward_passes=1, choices=(Choice(text='The reference person itself', data_value='0', numeric_value=None), Choice(text='Husband/wife', data_value='1', numeric_value=None), Choice(text='Biological son or daughter', data_value='2', numeric_value=None), Choice(text='Adopted son or daughter', data_value='3', numeric_value=None), Choice(text='Stepson or stepdaughter', data_value='4', numeric_value=None), Choice(text='Brother or sister', data_value='5', numeric_value=None), Choice(text='Father or mother', data_value='6', numeric_value=None), Choice(text='Grandchild', data_value='7', numeric_value=None), Choice(text='Parent-in-law', data_value='8', numeric_value=None), Choice(text='Son-in-law or daughter-in-law', data_value='9', numeric_value=None), Choice(text='Other relative', data_value='10', numeric_value=None), Choice(text='Roomer or boarder', data_value='11', numeric_value=None), Choice(text='Housemate or roommate', data_value='12', numeric_value=None), Choice(text='Unmarried partner', data_value='13', numeric_value=None), Choice(text='Foster child', data_value='14', numeric_value=None), Choice(text='Other non-relative', data_value='15', numeric_value=None), Choice(text='Institutionalized group quarters population', data_value='16', numeric_value=None), Choice(text='Non-institutionalized group quarters population', data_value='17', numeric_value=None)), _answer_keys_source=('A', 'B', 'C', 'D', 'E', 'F', 'G', 'H', 'I', 'J', 'K', 'L', 'M', 'N', 'O', 'P', 'Q', 'R', 'S', 'T', 'U', 'V', 'W', 'X', 'Y', 'Z')),\n",
       " 'SEX': MultipleChoiceQA(column='SEX', text=\"What is this person's sex?\", num_forward_passes=1, choices=(Choice(text='Male', data_value='1', numeric_value=None), Choice(text='Female', data_value='2', numeric_value=None)), _answer_keys_source=('A', 'B', 'C', 'D', 'E', 'F', 'G', 'H', 'I', 'J', 'K', 'L', 'M', 'N', 'O', 'P', 'Q', 'R', 'S', 'T', 'U', 'V', 'W', 'X', 'Y', 'Z')),\n",
       " 'RAC1P': MultipleChoiceQA(column='RAC1P', text=\"What is this person's race?\", num_forward_passes=1, choices=(Choice(text='White', data_value='1', numeric_value=None), Choice(text='Black or African American', data_value='2', numeric_value=None), Choice(text='American Indian', data_value='3', numeric_value=None), Choice(text='Alaska Native', data_value='4', numeric_value=None), Choice(text='American Indian and Alaska Native tribes specified; or American Indian or Alaska Native, not specified and no other races', data_value='5', numeric_value=None), Choice(text='Asian', data_value='6', numeric_value=None), Choice(text='Native Hawaiian and Other Pacific Islander', data_value='7', numeric_value=None), Choice(text='Some other race alone (non-White)', data_value='8', numeric_value=None), Choice(text='Two or more races', data_value='9', numeric_value=None)), _answer_keys_source=('A', 'B', 'C', 'D', 'E', 'F', 'G', 'H', 'I', 'J', 'K', 'L', 'M', 'N', 'O', 'P', 'Q', 'R', 'S', 'T', 'U', 'V', 'W', 'X', 'Y', 'Z')),\n",
       " 'DIS': MultipleChoiceQA(column='DIS', text=\"What is this person's disability status?\", num_forward_passes=1, choices=(Choice(text='With a disability', data_value='1', numeric_value=None), Choice(text='No disability', data_value='2', numeric_value=None)), _answer_keys_source=('A', 'B', 'C', 'D', 'E', 'F', 'G', 'H', 'I', 'J', 'K', 'L', 'M', 'N', 'O', 'P', 'Q', 'R', 'S', 'T', 'U', 'V', 'W', 'X', 'Y', 'Z')),\n",
       " 'ESP': MultipleChoiceQA(column='ESP', text=\"What is this person's employment status of parents?\", num_forward_passes=1, choices=(Choice(text='Living with two parents, both employed', data_value='1', numeric_value=None), Choice(text='Living with two parents, only Father is employed', data_value='2', numeric_value=None), Choice(text='Living with two parents, only Mother is employed', data_value='3', numeric_value=None), Choice(text='Living with two parents, neither employed', data_value='4', numeric_value=None), Choice(text='Living with Father, and Father is employed', data_value='5', numeric_value=None), Choice(text='Living with Father, and Father is not employed', data_value='6', numeric_value=None), Choice(text='Living with Mother, and Mother is employed', data_value='7', numeric_value=None), Choice(text='Living with Mother, and Mother is not employed', data_value='8', numeric_value=None)), _answer_keys_source=('A', 'B', 'C', 'D', 'E', 'F', 'G', 'H', 'I', 'J', 'K', 'L', 'M', 'N', 'O', 'P', 'Q', 'R', 'S', 'T', 'U', 'V', 'W', 'X', 'Y', 'Z')),\n",
       " 'CIT': MultipleChoiceQA(column='CIT', text=\"What is this person's citizenship status?\", num_forward_passes=1, choices=(Choice(text='Born in the United States', data_value='1', numeric_value=None), Choice(text='Born in Puerto Rico, Guam, the U.S. Virgin Islands, or the Northern Marianas', data_value='2', numeric_value=None), Choice(text='Born abroad of American parents', data_value='3', numeric_value=None), Choice(text='Naturalized US citizen', data_value='4', numeric_value=None), Choice(text='Not a US citizen', data_value='5', numeric_value=None)), _answer_keys_source=('A', 'B', 'C', 'D', 'E', 'F', 'G', 'H', 'I', 'J', 'K', 'L', 'M', 'N', 'O', 'P', 'Q', 'R', 'S', 'T', 'U', 'V', 'W', 'X', 'Y', 'Z')),\n",
       " 'MIG': MultipleChoiceQA(column='MIG', text=\"What is this person's mobility status over the last year?\", num_forward_passes=1, choices=(Choice(text='Lived in the same house one year ago', data_value='1', numeric_value=None), Choice(text='Lived in a different house, outside the United States and Puerto Rico, one year ago', data_value='2', numeric_value=None), Choice(text='Lived in a different house in the United States one year ago', data_value='3', numeric_value=None)), _answer_keys_source=('A', 'B', 'C', 'D', 'E', 'F', 'G', 'H', 'I', 'J', 'K', 'L', 'M', 'N', 'O', 'P', 'Q', 'R', 'S', 'T', 'U', 'V', 'W', 'X', 'Y', 'Z')),\n",
       " 'MIL': MultipleChoiceQA(column='MIL', text=\"What is this person's military service status?\", num_forward_passes=1, choices=(Choice(text='Now on active duty', data_value='1', numeric_value=None), Choice(text='On active duty in the past, but not now', data_value='2', numeric_value=None), Choice(text='Only on active duty for training in Reserved/National Guard', data_value='3', numeric_value=None), Choice(text='Never served in the military', data_value='4', numeric_value=None)), _answer_keys_source=('A', 'B', 'C', 'D', 'E', 'F', 'G', 'H', 'I', 'J', 'K', 'L', 'M', 'N', 'O', 'P', 'Q', 'R', 'S', 'T', 'U', 'V', 'W', 'X', 'Y', 'Z')),\n",
       " 'ANC': MultipleChoiceQA(column='ANC', text=\"What is this person's ancestry?\", num_forward_passes=1, choices=(Choice(text='Single ancestry', data_value='1', numeric_value=None), Choice(text='Multiple ancestry', data_value='2', numeric_value=None), Choice(text='Unclassified', data_value='3', numeric_value=None), Choice(text='Not reported', data_value='4', numeric_value=None), Choice(text='N/A (information suppressed for certain area codes)', data_value='8', numeric_value=None)), _answer_keys_source=('A', 'B', 'C', 'D', 'E', 'F', 'G', 'H', 'I', 'J', 'K', 'L', 'M', 'N', 'O', 'P', 'Q', 'R', 'S', 'T', 'U', 'V', 'W', 'X', 'Y', 'Z')),\n",
       " 'NATIVITY': MultipleChoiceQA(column='NATIVITY', text=\"What is this person's nativity?\", num_forward_passes=1, choices=(Choice(text='Native', data_value='1', numeric_value=None), Choice(text='Foreign born', data_value='2', numeric_value=None)), _answer_keys_source=('A', 'B', 'C', 'D', 'E', 'F', 'G', 'H', 'I', 'J', 'K', 'L', 'M', 'N', 'O', 'P', 'Q', 'R', 'S', 'T', 'U', 'V', 'W', 'X', 'Y', 'Z')),\n",
       " 'DEAR': MultipleChoiceQA(column='DEAR', text=\"What is this person's hearing status?\", num_forward_passes=1, choices=(Choice(text='With hearing difficulty', data_value='1', numeric_value=None), Choice(text='No hearing difficulty', data_value='2', numeric_value=None)), _answer_keys_source=('A', 'B', 'C', 'D', 'E', 'F', 'G', 'H', 'I', 'J', 'K', 'L', 'M', 'N', 'O', 'P', 'Q', 'R', 'S', 'T', 'U', 'V', 'W', 'X', 'Y', 'Z')),\n",
       " 'DEYE': MultipleChoiceQA(column='DEYE', text=\"What is this person's vision status?\", num_forward_passes=1, choices=(Choice(text='With vision difficulty', data_value='1', numeric_value=None), Choice(text='No vision difficulty', data_value='2', numeric_value=None)), _answer_keys_source=('A', 'B', 'C', 'D', 'E', 'F', 'G', 'H', 'I', 'J', 'K', 'L', 'M', 'N', 'O', 'P', 'Q', 'R', 'S', 'T', 'U', 'V', 'W', 'X', 'Y', 'Z')),\n",
       " 'DREM': MultipleChoiceQA(column='DREM', text=\"What is this person's cognition status?\", num_forward_passes=1, choices=(Choice(text='With cognitive difficulty', data_value='1', numeric_value=None), Choice(text='No cognitive difficulty', data_value='2', numeric_value=None)), _answer_keys_source=('A', 'B', 'C', 'D', 'E', 'F', 'G', 'H', 'I', 'J', 'K', 'L', 'M', 'N', 'O', 'P', 'Q', 'R', 'S', 'T', 'U', 'V', 'W', 'X', 'Y', 'Z')),\n",
       " 'ESR': MultipleChoiceQA(column='ESR', text=\"What is this person's employment status?\", num_forward_passes=1, choices=(Choice(text='Civilian employed, at work', data_value='1', numeric_value=None), Choice(text='Civilian employed, with a job but not at work', data_value='2', numeric_value=None), Choice(text='Unemployed', data_value='3', numeric_value=None), Choice(text='Armed forces, at work', data_value='4', numeric_value=None), Choice(text='Armed forces, with a job but not at work', data_value='5', numeric_value=None), Choice(text='Not in labor force', data_value='6', numeric_value=None)), _answer_keys_source=('A', 'B', 'C', 'D', 'E', 'F', 'G', 'H', 'I', 'J', 'K', 'L', 'M', 'N', 'O', 'P', 'Q', 'R', 'S', 'T', 'U', 'V', 'W', 'X', 'Y', 'Z')),\n",
       " 'FER': MultipleChoiceQA(column='FER', text=\"What is this person's person has given birth within the last year?\", num_forward_passes=1, choices=(Choice(text='Person has given birth within the last year.', data_value='1', numeric_value=None), Choice(text='Person has not given birth within the last year.', data_value='2', numeric_value=None)), _answer_keys_source=('A', 'B', 'C', 'D', 'E', 'F', 'G', 'H', 'I', 'J', 'K', 'L', 'M', 'N', 'O', 'P', 'Q', 'R', 'S', 'T', 'U', 'V', 'W', 'X', 'Y', 'Z')),\n",
       " 'JWTR': MultipleChoiceQA(column='JWTR', text=\"What is this person's means of transportation to work?\", num_forward_passes=1, choices=(Choice(text='Car, truck, or van', data_value='1', numeric_value=None), Choice(text='Bus or trolley bus', data_value='2', numeric_value=None), Choice(text='Streetcar or trolley car', data_value='3', numeric_value=None), Choice(text='Subway or elevated', data_value='4', numeric_value=None), Choice(text='Railroad', data_value='5', numeric_value=None), Choice(text='Ferryboat', data_value='6', numeric_value=None), Choice(text='Taxicab', data_value='7', numeric_value=None), Choice(text='Motorcycle', data_value='8', numeric_value=None), Choice(text='Bicycle', data_value='9', numeric_value=None), Choice(text='Walked', data_value='10', numeric_value=None), Choice(text='Worked at home', data_value='11', numeric_value=None), Choice(text='Other method', data_value='12', numeric_value=None)), _answer_keys_source=('A', 'B', 'C', 'D', 'E', 'F', 'G', 'H', 'I', 'J', 'K', 'L', 'M', 'N', 'O', 'P', 'Q', 'R', 'S', 'T', 'U', 'V', 'W', 'X', 'Y', 'Z')),\n",
       " 'GCL': MultipleChoiceQA(column='GCL', text=\"What is this person's grandparent living with grandchildren?\", num_forward_passes=1, choices=(Choice(text='Household includes grandparent living with grandchildren', data_value='1', numeric_value=None), Choice(text='Household does not include grandparents living with grandchildren', data_value='2', numeric_value=None)), _answer_keys_source=('A', 'B', 'C', 'D', 'E', 'F', 'G', 'H', 'I', 'J', 'K', 'L', 'M', 'N', 'O', 'P', 'Q', 'R', 'S', 'T', 'U', 'V', 'W', 'X', 'Y', 'Z')),\n",
       " 'HINS2': MultipleChoiceQA(column='HINS2', text=\"What is this person's acquired health insurance directly from an insurance company?\", num_forward_passes=1, choices=(Choice(text='Person has purchased insurance directly from an insurance company', data_value='1', numeric_value=None), Choice(text=('Person has not purchased insurance directly from an insurance company (is either uninsured or insured through another source)',), data_value='2', numeric_value=None)), _answer_keys_source=('A', 'B', 'C', 'D', 'E', 'F', 'G', 'H', 'I', 'J', 'K', 'L', 'M', 'N', 'O', 'P', 'Q', 'R', 'S', 'T', 'U', 'V', 'W', 'X', 'Y', 'Z'))}"
      ]
     },
     "execution_count": 9,
     "metadata": {},
     "output_type": "execute_result"
    }
   ],
   "source": [
    "acs_multiple_choice_qa_map"
   ]
  },
  {
   "cell_type": "code",
   "execution_count": 10,
   "metadata": {},
   "outputs": [],
   "source": [
    "from folktexts.acs.acs_tasks import ACSTaskMetadata\n",
    "from folktexts.task import TaskMetadata\n",
    "\n",
    "\n",
    "task_obj = TaskMetadata.get_task(\"ACSIncome\")"
   ]
  },
  {
   "cell_type": "code",
   "execution_count": 11,
   "metadata": {},
   "outputs": [
    {
     "data": {
      "text/plain": [
       "'PINCP>50000'"
      ]
     },
     "execution_count": 11,
     "metadata": {},
     "output_type": "execute_result"
    }
   ],
   "source": [
    "task_obj.get_target()"
   ]
  },
  {
   "cell_type": "code",
   "execution_count": 12,
   "metadata": {},
   "outputs": [
    {
     "data": {
      "text/plain": [
       "MultipleChoiceQA(column='PINCP>50000', text=\"What is this person's estimated yearly income?\", num_forward_passes=1, choices=(Choice(text='Below $50,000', data_value=0, numeric_value=None), Choice(text='Above $50,000', data_value=1, numeric_value=None)), _answer_keys_source=('A', 'B', 'C', 'D', 'E', 'F', 'G', 'H', 'I', 'J', 'K', 'L', 'M', 'N', 'O', 'P', 'Q', 'R', 'S', 'T', 'U', 'V', 'W', 'X', 'Y', 'Z'))"
      ]
     },
     "execution_count": 12,
     "metadata": {},
     "output_type": "execute_result"
    }
   ],
   "source": [
    "task_obj.cols_to_text[task_obj.get_target()]._question"
   ]
  },
  {
   "cell_type": "code",
   "execution_count": 13,
   "metadata": {},
   "outputs": [
    {
     "data": {
      "text/plain": [
       "MultipleChoiceQA(column='PINCP>50000', text=\"What is this person's estimated yearly income?\", num_forward_passes=1, choices=(Choice(text='Below $50,000', data_value=0, numeric_value=None), Choice(text='Above $50,000', data_value=1, numeric_value=None)), _answer_keys_source=('A', 'B', 'C', 'D', 'E', 'F', 'G', 'H', 'I', 'J', 'K', 'L', 'M', 'N', 'O', 'P', 'Q', 'R', 'S', 'T', 'U', 'V', 'W', 'X', 'Y', 'Z'))"
      ]
     },
     "execution_count": 13,
     "metadata": {},
     "output_type": "execute_result"
    }
   ],
   "source": [
    "task_obj.cols_to_text[task_obj.get_target()].question"
   ]
  },
  {
   "cell_type": "code",
   "execution_count": null,
   "metadata": {},
   "outputs": [],
   "source": []
  },
  {
   "cell_type": "code",
   "execution_count": 16,
   "metadata": {},
   "outputs": [],
   "source": [
    "#load the dataset\n",
    "from folktexts.acs.acs_tasks import ACSTaskMetadata\n",
    "from folktexts.acs.acs_dataset import ACSDataset\n",
    "from pathlib import Path\n",
    "\n",
    "\n",
    "data_dir = Path(\"./data\")\n",
    "\n",
    "task_name = 'ACSIncome'\n",
    "acs_task = ACSTaskMetadata.get_task(task_name)\n",
    "acs_dataset_configs = folktexts.benchmark.Benchmark.ACS_DATASET_CONFIGS.copy()"
   ]
  },
  {
   "cell_type": "code",
   "execution_count": 17,
   "metadata": {},
   "outputs": [
    {
     "name": "stdout",
     "output_type": "stream",
     "text": [
      "Loading ACS data...\n"
     ]
    }
   ],
   "source": [
    "dataset = ACSDataset.make_from_task(\n",
    "    task_name, cache_dir=data_dir, **acs_dataset_configs\n",
    ")\n",
    "\n",
    "X_train, y_train = dataset.get_train()\n",
    "X_test, y_test = dataset.get_test()\n",
    "s_test = None\n",
    "if dataset.task.sensitive_attribute is not None:\n",
    "    s_test = dataset.get_sensitive_attribute_data().loc[y_test.index]"
   ]
  },
  {
   "cell_type": "code",
   "execution_count": null,
   "metadata": {},
   "outputs": [],
   "source": [
    "task_obj.get_row_description()"
   ]
  },
  {
   "cell_type": "code",
   "execution_count": 18,
   "metadata": {},
   "outputs": [
    {
     "ename": "KeyError",
     "evalue": "0",
     "output_type": "error",
     "traceback": [
      "\u001b[0;31m---------------------------------------------------------------------------\u001b[0m",
      "\u001b[0;31mKeyError\u001b[0m                                  Traceback (most recent call last)",
      "File \u001b[0;32m~/opt/miniconda3/envs/llm-py311/lib/python3.11/site-packages/pandas/core/indexes/base.py:3805\u001b[0m, in \u001b[0;36mIndex.get_loc\u001b[0;34m(self, key)\u001b[0m\n\u001b[1;32m   3804\u001b[0m \u001b[38;5;28;01mtry\u001b[39;00m:\n\u001b[0;32m-> 3805\u001b[0m     \u001b[38;5;28;01mreturn\u001b[39;00m \u001b[38;5;28;43mself\u001b[39;49m\u001b[38;5;241;43m.\u001b[39;49m\u001b[43m_engine\u001b[49m\u001b[38;5;241;43m.\u001b[39;49m\u001b[43mget_loc\u001b[49m\u001b[43m(\u001b[49m\u001b[43mcasted_key\u001b[49m\u001b[43m)\u001b[49m\n\u001b[1;32m   3806\u001b[0m \u001b[38;5;28;01mexcept\u001b[39;00m \u001b[38;5;167;01mKeyError\u001b[39;00m \u001b[38;5;28;01mas\u001b[39;00m err:\n",
      "File \u001b[0;32mindex.pyx:167\u001b[0m, in \u001b[0;36mpandas._libs.index.IndexEngine.get_loc\u001b[0;34m()\u001b[0m\n",
      "File \u001b[0;32mindex.pyx:196\u001b[0m, in \u001b[0;36mpandas._libs.index.IndexEngine.get_loc\u001b[0;34m()\u001b[0m\n",
      "File \u001b[0;32mpandas/_libs/hashtable_class_helper.pxi:7081\u001b[0m, in \u001b[0;36mpandas._libs.hashtable.PyObjectHashTable.get_item\u001b[0;34m()\u001b[0m\n",
      "File \u001b[0;32mpandas/_libs/hashtable_class_helper.pxi:7089\u001b[0m, in \u001b[0;36mpandas._libs.hashtable.PyObjectHashTable.get_item\u001b[0;34m()\u001b[0m\n",
      "\u001b[0;31mKeyError\u001b[0m: 0",
      "\nThe above exception was the direct cause of the following exception:\n",
      "\u001b[0;31mKeyError\u001b[0m                                  Traceback (most recent call last)",
      "Cell \u001b[0;32mIn[18], line 1\u001b[0m\n\u001b[0;32m----> 1\u001b[0m \u001b[43mX_test\u001b[49m\u001b[43m[\u001b[49m\u001b[38;5;241;43m0\u001b[39;49m\u001b[43m]\u001b[49m\n",
      "File \u001b[0;32m~/opt/miniconda3/envs/llm-py311/lib/python3.11/site-packages/pandas/core/frame.py:4102\u001b[0m, in \u001b[0;36mDataFrame.__getitem__\u001b[0;34m(self, key)\u001b[0m\n\u001b[1;32m   4100\u001b[0m \u001b[38;5;28;01mif\u001b[39;00m \u001b[38;5;28mself\u001b[39m\u001b[38;5;241m.\u001b[39mcolumns\u001b[38;5;241m.\u001b[39mnlevels \u001b[38;5;241m>\u001b[39m \u001b[38;5;241m1\u001b[39m:\n\u001b[1;32m   4101\u001b[0m     \u001b[38;5;28;01mreturn\u001b[39;00m \u001b[38;5;28mself\u001b[39m\u001b[38;5;241m.\u001b[39m_getitem_multilevel(key)\n\u001b[0;32m-> 4102\u001b[0m indexer \u001b[38;5;241m=\u001b[39m \u001b[38;5;28;43mself\u001b[39;49m\u001b[38;5;241;43m.\u001b[39;49m\u001b[43mcolumns\u001b[49m\u001b[38;5;241;43m.\u001b[39;49m\u001b[43mget_loc\u001b[49m\u001b[43m(\u001b[49m\u001b[43mkey\u001b[49m\u001b[43m)\u001b[49m\n\u001b[1;32m   4103\u001b[0m \u001b[38;5;28;01mif\u001b[39;00m is_integer(indexer):\n\u001b[1;32m   4104\u001b[0m     indexer \u001b[38;5;241m=\u001b[39m [indexer]\n",
      "File \u001b[0;32m~/opt/miniconda3/envs/llm-py311/lib/python3.11/site-packages/pandas/core/indexes/base.py:3812\u001b[0m, in \u001b[0;36mIndex.get_loc\u001b[0;34m(self, key)\u001b[0m\n\u001b[1;32m   3807\u001b[0m     \u001b[38;5;28;01mif\u001b[39;00m \u001b[38;5;28misinstance\u001b[39m(casted_key, \u001b[38;5;28mslice\u001b[39m) \u001b[38;5;129;01mor\u001b[39;00m (\n\u001b[1;32m   3808\u001b[0m         \u001b[38;5;28misinstance\u001b[39m(casted_key, abc\u001b[38;5;241m.\u001b[39mIterable)\n\u001b[1;32m   3809\u001b[0m         \u001b[38;5;129;01mand\u001b[39;00m \u001b[38;5;28many\u001b[39m(\u001b[38;5;28misinstance\u001b[39m(x, \u001b[38;5;28mslice\u001b[39m) \u001b[38;5;28;01mfor\u001b[39;00m x \u001b[38;5;129;01min\u001b[39;00m casted_key)\n\u001b[1;32m   3810\u001b[0m     ):\n\u001b[1;32m   3811\u001b[0m         \u001b[38;5;28;01mraise\u001b[39;00m InvalidIndexError(key)\n\u001b[0;32m-> 3812\u001b[0m     \u001b[38;5;28;01mraise\u001b[39;00m \u001b[38;5;167;01mKeyError\u001b[39;00m(key) \u001b[38;5;28;01mfrom\u001b[39;00m \u001b[38;5;21;01merr\u001b[39;00m\n\u001b[1;32m   3813\u001b[0m \u001b[38;5;28;01mexcept\u001b[39;00m \u001b[38;5;167;01mTypeError\u001b[39;00m:\n\u001b[1;32m   3814\u001b[0m     \u001b[38;5;66;03m# If we have a listlike key, _check_indexing_error will raise\u001b[39;00m\n\u001b[1;32m   3815\u001b[0m     \u001b[38;5;66;03m#  InvalidIndexError. Otherwise we fall through and re-raise\u001b[39;00m\n\u001b[1;32m   3816\u001b[0m     \u001b[38;5;66;03m#  the TypeError.\u001b[39;00m\n\u001b[1;32m   3817\u001b[0m     \u001b[38;5;28mself\u001b[39m\u001b[38;5;241m.\u001b[39m_check_indexing_error(key)\n",
      "\u001b[0;31mKeyError\u001b[0m: 0"
     ]
    }
   ],
   "source": [
    "X_test[0]"
   ]
  },
  {
   "cell_type": "code",
   "execution_count": null,
   "metadata": {},
   "outputs": [],
   "source": []
  }
 ],
 "metadata": {
  "kernelspec": {
   "display_name": "monoc-py310",
   "language": "python",
   "name": "python3"
  },
  "language_info": {
   "codemirror_mode": {
    "name": "ipython",
    "version": 3
   },
   "file_extension": ".py",
   "mimetype": "text/x-python",
   "name": "python",
   "nbconvert_exporter": "python",
   "pygments_lexer": "ipython3",
   "version": "3.10.16"
  }
 },
 "nbformat": 4,
 "nbformat_minor": 2
}
